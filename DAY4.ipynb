{
 "cells": [
  {
   "cell_type": "code",
   "execution_count": 1,
   "id": "ada5487d-cf85-4826-900b-807f1370e94c",
   "metadata": {},
   "outputs": [
    {
     "data": {
      "text/plain": [
       "{101: 4, 102: 7, 'B': 2}"
      ]
     },
     "execution_count": 1,
     "metadata": {},
     "output_type": "execute_result"
    }
   ],
   "source": [
    "d = {101: 4, 102: 7, 'B': 2}\n",
    "d\n"
   ]
  },
  {
   "cell_type": "code",
   "execution_count": 3,
   "id": "0f7529de-c820-4216-8588-2e1e9f9c297e",
   "metadata": {},
   "outputs": [],
   "source": [
    "d.update({102: 69})"
   ]
  },
  {
   "cell_type": "code",
   "execution_count": 5,
   "id": "17a38a86-67d1-4bae-b600-67823e651b27",
   "metadata": {},
   "outputs": [
    {
     "data": {
      "text/plain": [
       "{101: 4, 102: 69, 'B': 2}"
      ]
     },
     "execution_count": 5,
     "metadata": {},
     "output_type": "execute_result"
    }
   ],
   "source": [
    "d"
   ]
  },
  {
   "cell_type": "code",
   "execution_count": 7,
   "id": "042f2fca-536a-4aa2-8910-97570b3abef5",
   "metadata": {},
   "outputs": [],
   "source": [
    "d[105]=5000"
   ]
  },
  {
   "cell_type": "code",
   "execution_count": 9,
   "id": "18c0ee13-04ac-4ec3-8883-ed380861c977",
   "metadata": {},
   "outputs": [
    {
     "data": {
      "text/plain": [
       "{101: 4, 102: 69, 'B': 2, 105: 5000}"
      ]
     },
     "execution_count": 9,
     "metadata": {},
     "output_type": "execute_result"
    }
   ],
   "source": [
    "d"
   ]
  },
  {
   "cell_type": "code",
   "execution_count": 21,
   "id": "083fdd7c-1083-48ee-84c8-58e39f11a412",
   "metadata": {},
   "outputs": [
    {
     "data": {
      "text/plain": [
       "{101: 9, 102: 69, 'B': 2, 105: 5000, 106: 'india'}"
      ]
     },
     "execution_count": 21,
     "metadata": {},
     "output_type": "execute_result"
    }
   ],
   "source": [
    "d.update({106: 'india'})\n",
    "d"
   ]
  },
  {
   "cell_type": "code",
   "execution_count": 23,
   "id": "ee5ffa5b-fdbd-4788-ad67-4394579a4505",
   "metadata": {},
   "outputs": [
    {
     "data": {
      "text/plain": [
       "5000"
      ]
     },
     "execution_count": 23,
     "metadata": {},
     "output_type": "execute_result"
    }
   ],
   "source": [
    "d[105]"
   ]
  },
  {
   "cell_type": "code",
   "execution_count": 25,
   "id": "fbd334d6-57e1-4fbd-902d-87cd29e84d2f",
   "metadata": {},
   "outputs": [
    {
     "data": {
      "text/plain": [
       "5000"
      ]
     },
     "execution_count": 25,
     "metadata": {},
     "output_type": "execute_result"
    }
   ],
   "source": [
    "d.get(105)"
   ]
  },
  {
   "cell_type": "code",
   "execution_count": 33,
   "id": "2d38ff68-9a48-4b6d-851c-e86dd548f585",
   "metadata": {},
   "outputs": [],
   "source": [
    "d.update({101: 'india'})    #dict allows duplicate values"
   ]
  },
  {
   "cell_type": "code",
   "execution_count": 35,
   "id": "16ee23c5-63c0-4a4e-b3d0-871f2a5f0b80",
   "metadata": {},
   "outputs": [
    {
     "data": {
      "text/plain": [
       "{101: 'india', 102: 69, 'B': 2, 105: 5000, 106: 'india'}"
      ]
     },
     "execution_count": 35,
     "metadata": {},
     "output_type": "execute_result"
    }
   ],
   "source": [
    "d"
   ]
  },
  {
   "cell_type": "code",
   "execution_count": 39,
   "id": "b6380da2-7318-44f6-8572-fff34f57c576",
   "metadata": {},
   "outputs": [
    {
     "data": {
      "text/plain": [
       "dict_values(['india', 69, 2, 5000, 'india'])"
      ]
     },
     "execution_count": 39,
     "metadata": {},
     "output_type": "execute_result"
    }
   ],
   "source": [
    "d.values()"
   ]
  },
  {
   "cell_type": "code",
   "execution_count": 41,
   "id": "0c309329-5447-45a4-8c00-1af2fb493119",
   "metadata": {},
   "outputs": [
    {
     "data": {
      "text/plain": [
       "dict_keys([101, 102, 'B', 105, 106])"
      ]
     },
     "execution_count": 41,
     "metadata": {},
     "output_type": "execute_result"
    }
   ],
   "source": [
    "d.keys()"
   ]
  },
  {
   "cell_type": "code",
   "execution_count": 43,
   "id": "d14276ad-5851-4bc1-a751-dae69d1ef845",
   "metadata": {},
   "outputs": [
    {
     "data": {
      "text/plain": [
       "dict_items([(101, 'india'), (102, 69), ('B', 2), (105, 5000), (106, 'india')])"
      ]
     },
     "execution_count": 43,
     "metadata": {},
     "output_type": "execute_result"
    }
   ],
   "source": [
    "d.items()"
   ]
  },
  {
   "cell_type": "code",
   "execution_count": 45,
   "id": "3f9c2a24-0c3f-4a16-961c-36da332641f0",
   "metadata": {},
   "outputs": [
    {
     "ename": "KeyError",
     "evalue": "104",
     "output_type": "error",
     "traceback": [
      "\u001b[1;31m---------------------------------------------------------------------------\u001b[0m",
      "\u001b[1;31mKeyError\u001b[0m                                  Traceback (most recent call last)",
      "Cell \u001b[1;32mIn[45], line 1\u001b[0m\n\u001b[1;32m----> 1\u001b[0m d[\u001b[38;5;241m104\u001b[39m]\n",
      "\u001b[1;31mKeyError\u001b[0m: 104"
     ]
    }
   ],
   "source": [
    "d[104]"
   ]
  },
  {
   "cell_type": "code",
   "execution_count": 47,
   "id": "f6147c29-4dad-4862-a7bd-cfb09eefa921",
   "metadata": {},
   "outputs": [],
   "source": [
    "d[104]= [1000,2000,5000,6000,7000]"
   ]
  },
  {
   "cell_type": "code",
   "execution_count": 65,
   "id": "c453927b-8a32-44f1-b180-18749d86c21e",
   "metadata": {},
   "outputs": [],
   "source": [
    "#d.update({104:[1000,2000,5000,6000,7000]})"
   ]
  },
  {
   "cell_type": "code",
   "execution_count": 67,
   "id": "1ab18456-dd6d-450c-bc1c-1db28d422424",
   "metadata": {},
   "outputs": [
    {
     "data": {
      "text/plain": [
       "{101: 'india',\n",
       " 102: 69,\n",
       " 'B': 2,\n",
       " 105: 5000,\n",
       " 106: 'india',\n",
       " 104: [1000, 2000, 5000, 6000, 7000]}"
      ]
     },
     "execution_count": 67,
     "metadata": {},
     "output_type": "execute_result"
    }
   ],
   "source": [
    "d"
   ]
  },
  {
   "cell_type": "code",
   "execution_count": 69,
   "id": "61b43dde-7e71-445d-ba8c-5a23593b9fcf",
   "metadata": {},
   "outputs": [
    {
     "data": {
      "text/plain": [
       "69"
      ]
     },
     "execution_count": 69,
     "metadata": {},
     "output_type": "execute_result"
    }
   ],
   "source": [
    "d[102]"
   ]
  },
  {
   "cell_type": "code",
   "execution_count": 71,
   "id": "635a3fc5-cdf8-43d6-bf56-46f6a2826704",
   "metadata": {},
   "outputs": [
    {
     "data": {
      "text/plain": [
       "[1000, 2000, 5000, 6000, 7000]"
      ]
     },
     "execution_count": 71,
     "metadata": {},
     "output_type": "execute_result"
    }
   ],
   "source": [
    "d[104]"
   ]
  },
  {
   "cell_type": "code",
   "execution_count": 73,
   "id": "4752b793-74ef-453b-b201-8427a86db3ec",
   "metadata": {},
   "outputs": [
    {
     "data": {
      "text/plain": [
       "[1000, 2000, 5000]"
      ]
     },
     "execution_count": 73,
     "metadata": {},
     "output_type": "execute_result"
    }
   ],
   "source": [
    "d[104][0:3]"
   ]
  },
  {
   "cell_type": "code",
   "execution_count": 75,
   "id": "3f0e1584-fa1d-4dc7-8d4e-53882f439a70",
   "metadata": {},
   "outputs": [
    {
     "data": {
      "text/plain": [
       "dict"
      ]
     },
     "execution_count": 75,
     "metadata": {},
     "output_type": "execute_result"
    }
   ],
   "source": [
    "type(d)\n"
   ]
  },
  {
   "cell_type": "code",
   "execution_count": 77,
   "id": "7dc04612-5514-447a-9154-710ade922b24",
   "metadata": {},
   "outputs": [
    {
     "data": {
      "text/plain": [
       "int"
      ]
     },
     "execution_count": 77,
     "metadata": {},
     "output_type": "execute_result"
    }
   ],
   "source": [
    "type(d[102])"
   ]
  },
  {
   "cell_type": "code",
   "execution_count": 79,
   "id": "06d31ed5-f462-42c9-848f-ad2d27232c24",
   "metadata": {},
   "outputs": [
    {
     "data": {
      "text/plain": [
       "list"
      ]
     },
     "execution_count": 79,
     "metadata": {},
     "output_type": "execute_result"
    }
   ],
   "source": [
    "type(d[104])"
   ]
  },
  {
   "cell_type": "code",
   "execution_count": 83,
   "id": "1cf323d1-e5a3-43c1-a711-03c5ec17ce1d",
   "metadata": {},
   "outputs": [
    {
     "data": {
      "text/plain": [
       "{101: 'india',\n",
       " 102: 69,\n",
       " 'B': 2,\n",
       " 105: 5000,\n",
       " 106: 'india',\n",
       " 104: [1000, 2000, 5000, 6000, 7000]}"
      ]
     },
     "execution_count": 83,
     "metadata": {},
     "output_type": "execute_result"
    }
   ],
   "source": [
    "d"
   ]
  },
  {
   "cell_type": "code",
   "execution_count": 85,
   "id": "cc85bf40-5b7a-4dfd-9299-af4ff9f33c0d",
   "metadata": {},
   "outputs": [],
   "source": [
    "d.update({103:(30,40,50,60,70)})"
   ]
  },
  {
   "cell_type": "code",
   "execution_count": 87,
   "id": "75f8d941-e287-4728-ac82-a2cb1f228e53",
   "metadata": {},
   "outputs": [
    {
     "data": {
      "text/plain": [
       "{101: 'india',\n",
       " 102: 69,\n",
       " 'B': 2,\n",
       " 105: 5000,\n",
       " 106: 'india',\n",
       " 104: [1000, 2000, 5000, 6000, 7000],\n",
       " 103: (30, 40, 50, 60, 70)}"
      ]
     },
     "execution_count": 87,
     "metadata": {},
     "output_type": "execute_result"
    }
   ],
   "source": [
    "d"
   ]
  },
  {
   "cell_type": "code",
   "execution_count": 89,
   "id": "bd01ca1e-b632-4c32-9603-ed1f0e32bd3f",
   "metadata": {},
   "outputs": [
    {
     "data": {
      "text/plain": [
       "(30, 40, 50, 60, 70)"
      ]
     },
     "execution_count": 89,
     "metadata": {},
     "output_type": "execute_result"
    }
   ],
   "source": [
    "d[103]"
   ]
  },
  {
   "cell_type": "code",
   "execution_count": 91,
   "id": "402ed40e-2590-4748-ad51-d63b777b6a08",
   "metadata": {},
   "outputs": [
    {
     "ename": "AttributeError",
     "evalue": "'tuple' object has no attribute 'append'",
     "output_type": "error",
     "traceback": [
      "\u001b[1;31m---------------------------------------------------------------------------\u001b[0m",
      "\u001b[1;31mAttributeError\u001b[0m                            Traceback (most recent call last)",
      "Cell \u001b[1;32mIn[91], line 1\u001b[0m\n\u001b[1;32m----> 1\u001b[0m d[\u001b[38;5;241m103\u001b[39m]\u001b[38;5;241m.\u001b[39mappend(\u001b[38;5;241m56\u001b[39m)\n",
      "\u001b[1;31mAttributeError\u001b[0m: 'tuple' object has no attribute 'append'"
     ]
    }
   ],
   "source": [
    "d[103].append(56)"
   ]
  },
  {
   "cell_type": "code",
   "execution_count": 93,
   "id": "c9624349-d356-4888-96a9-f474bd761aa4",
   "metadata": {},
   "outputs": [
    {
     "data": {
      "text/plain": [
       "{101: 'india',\n",
       " 102: 69,\n",
       " 'B': 2,\n",
       " 105: 5000,\n",
       " 106: 'india',\n",
       " 104: [1000, 2000, 5000, 6000, 7000],\n",
       " 103: (30, 40, 50, 60, 70)}"
      ]
     },
     "execution_count": 93,
     "metadata": {},
     "output_type": "execute_result"
    }
   ],
   "source": [
    "d"
   ]
  },
  {
   "cell_type": "code",
   "execution_count": 95,
   "id": "1daad7be-01e2-4e8e-9792-b4fa300a28fa",
   "metadata": {},
   "outputs": [],
   "source": [
    "d[101]={50:[7,8,9,10],'apple':(10,20,70,[90,180,270])}"
   ]
  },
  {
   "cell_type": "code",
   "execution_count": 97,
   "id": "6448919b-8d06-4df7-b161-2b728c384a97",
   "metadata": {},
   "outputs": [
    {
     "data": {
      "text/plain": [
       "{101: {50: [7, 8, 9, 10], 'apple': (10, 20, 70, [90, 180, 270])},\n",
       " 102: 69,\n",
       " 'B': 2,\n",
       " 105: 5000,\n",
       " 106: 'india',\n",
       " 104: [1000, 2000, 5000, 6000, 7000],\n",
       " 103: (30, 40, 50, 60, 70)}"
      ]
     },
     "execution_count": 97,
     "metadata": {},
     "output_type": "execute_result"
    }
   ],
   "source": [
    "d"
   ]
  },
  {
   "cell_type": "code",
   "execution_count": 103,
   "id": "59a7e62d-a08e-45ac-9dcd-8957eec49605",
   "metadata": {},
   "outputs": [],
   "source": [
    "d[105]={'a':{30,50,70},'b':(1000,5000,7000,9000),'c':['K',{'L':[11,22],'M':(77,88)},'N']}"
   ]
  },
  {
   "cell_type": "code",
   "execution_count": 105,
   "id": "85dd7284-7417-451f-bec4-a9759c5d9fd1",
   "metadata": {},
   "outputs": [
    {
     "data": {
      "text/plain": [
       "{101: {50: [7, 8, 9, 10], 'apple': (10, 20, 70, [90, 180, 270])},\n",
       " 102: 69,\n",
       " 'B': 2,\n",
       " 105: {'a': {30, 50, 70},\n",
       "  'b': (1000, 5000, 7000, 9000),\n",
       "  'c': ['K', {'L': [11, 22], 'M': (77, 88)}, 'N']},\n",
       " 106: 'india',\n",
       " 104: [1000, 2000, 5000, 6000, 7000],\n",
       " 103: (30, 40, 50, 60, 70)}"
      ]
     },
     "execution_count": 105,
     "metadata": {},
     "output_type": "execute_result"
    }
   ],
   "source": [
    "d"
   ]
  },
  {
   "cell_type": "code",
   "execution_count": 109,
   "id": "c145c354-c8d2-44ba-9f6c-e0dd6fc91d90",
   "metadata": {},
   "outputs": [
    {
     "data": {
      "text/plain": [
       "{50: [7, 8, 9, 10], 'apple': (10, 20, 70, [90, 180, 270])}"
      ]
     },
     "execution_count": 109,
     "metadata": {},
     "output_type": "execute_result"
    }
   ],
   "source": [
    "d[101]"
   ]
  },
  {
   "cell_type": "code",
   "execution_count": 113,
   "id": "c7427b61-0828-4ba2-99f5-318b51b80529",
   "metadata": {},
   "outputs": [
    {
     "data": {
      "text/plain": [
       "(10, 20, 70, [90, 180, 270])"
      ]
     },
     "execution_count": 113,
     "metadata": {},
     "output_type": "execute_result"
    }
   ],
   "source": [
    "d[101]['apple']"
   ]
  },
  {
   "cell_type": "code",
   "execution_count": 115,
   "id": "a5256431-42a3-4686-9db8-b58891641cb0",
   "metadata": {},
   "outputs": [
    {
     "data": {
      "text/plain": [
       "[90, 180, 270]"
      ]
     },
     "execution_count": 115,
     "metadata": {},
     "output_type": "execute_result"
    }
   ],
   "source": [
    "d[101]['apple'][3]"
   ]
  },
  {
   "cell_type": "code",
   "execution_count": 117,
   "id": "bc3568a5-7d00-46e8-ac52-09c4b411ff41",
   "metadata": {},
   "outputs": [
    {
     "data": {
      "text/plain": [
       "180"
      ]
     },
     "execution_count": 117,
     "metadata": {},
     "output_type": "execute_result"
    }
   ],
   "source": [
    "d[101]['apple'][3][1]"
   ]
  },
  {
   "cell_type": "code",
   "execution_count": null,
   "id": "4642889b-c755-4c5b-b579-f665a7387501",
   "metadata": {},
   "outputs": [],
   "source": []
  }
 ],
 "metadata": {
  "kernelspec": {
   "display_name": "Python [conda env:base] *",
   "language": "python",
   "name": "conda-base-py"
  },
  "language_info": {
   "codemirror_mode": {
    "name": "ipython",
    "version": 3
   },
   "file_extension": ".py",
   "mimetype": "text/x-python",
   "name": "python",
   "nbconvert_exporter": "python",
   "pygments_lexer": "ipython3",
   "version": "3.12.7"
  }
 },
 "nbformat": 4,
 "nbformat_minor": 5
}
